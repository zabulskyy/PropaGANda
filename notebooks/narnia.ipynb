{
 "cells": [
  {
   "cell_type": "code",
   "execution_count": 1,
   "metadata": {},
   "outputs": [],
   "source": [
    "import numpy as np # linear algebra\n",
    "import pandas as pd # data processing, CSV file I/O (e.g. pd.read_csv)\n",
    "from bs4 import BeautifulSoup\n",
    "import pickle\n",
    "import os, re\n",
    "from nltk.corpus import stopwords"
   ]
  },
  {
   "cell_type": "code",
   "execution_count": 2,
   "metadata": {},
   "outputs": [],
   "source": [
    "train = pd.read_csv(\"data/labeledTrainData.tsv\", header = 0, delimiter = '\\t')\n",
    "test = pd.read_csv(\"data/testData.tsv\", header = 0, delimiter = '\\t')"
   ]
  },
  {
   "cell_type": "code",
   "execution_count": 3,
   "metadata": {},
   "outputs": [],
   "source": [
    "test[\"sentiment\"] = test[\"id\"].map(lambda x: 1 if int(x.strip('\"').split(\"_\")[1]) >= 5 else 0)\n",
    "y_test = test[\"sentiment\"]"
   ]
  },
  {
   "cell_type": "code",
   "execution_count": 48,
   "metadata": {},
   "outputs": [],
   "source": [
    "def file2text(file):\n",
    "    with open(file, 'r') as f:\n",
    "        return re.sub(\"[^a-zA-Z]\", \" \", ' '.join(f.readlines())).lower().split()\n",
    "    "
   ]
  },
  {
   "cell_type": "code",
   "execution_count": 49,
   "metadata": {},
   "outputs": [
    {
     "name": "stdout",
     "output_type": "stream",
     "text": [
      "[ da ], [ fuck ], [ is ], [ going ], [ on ], [ the ], [ worst ], [ fucking ], [ thing ], [ i ], [ have ], [ ever ], [ seen ], [ i ], [ hate ], [ you ], [ stupi ], [ d ], [ bullshit ], "
     ]
    }
   ],
   "source": [
    "file = \"sample.txt\"\n",
    "for i in file2text(file): print('[', i, ']', end=\", \")"
   ]
  },
  {
   "cell_type": "code",
   "execution_count": 59,
   "metadata": {},
   "outputs": [],
   "source": [
    "def get_train_val_data(reviews_to_features_fn=None, df = train):\n",
    "    \"\"\"Extracts features (using reviews_to_features_fn), splits into train/test data, and returns\n",
    "    x_train, y_train, x_test, y_test.  If no feature extraction function is provided, x_train/x_test will\n",
    "    simply consist of a Series of all the reviews.\n",
    "    \"\"\"\n",
    "#     df = pd.read_csv('labeledTrainData.tsv', header=0, quotechar='\"', sep='\\t')\n",
    "    SEED = 1000\n",
    "    # Shuffle data frame rows\n",
    "    np.random.seed(SEED)\n",
    "    df = df.iloc[np.random.permutation(len(df))]\n",
    "\n",
    "    if reviews_to_features_fn:\n",
    "        feature_rows = df[\"review\"].map(reviews_to_features_fn)\n",
    "        if type(feature_rows[0]) == np.ndarray:\n",
    "            num_instances = len(feature_rows)\n",
    "            num_features = len(feature_rows[0])\n",
    "            x = np.concatenate(feature_rows.values).reshape((num_instances, num_features))\n",
    "        else:\n",
    "            x = feature_rows\n",
    "    else:\n",
    "        x = df[\"review\"]\n",
    "\n",
    "    y = df[\"sentiment\"]\n",
    "\n",
    "    # Split 80/20\n",
    "    test_start_index = int(df.shape[0] * .8)\n",
    "    x_train = x[0:test_start_index]\n",
    "    y_train = y[0:test_start_index]\n",
    "    x_val = x[test_start_index:]\n",
    "    y_val = y[test_start_index:]\n",
    "\n",
    "    return x_train, y_train, x_val, y_val"
   ]
  },
  {
   "cell_type": "code",
   "execution_count": 57,
   "metadata": {},
   "outputs": [
    {
     "name": "stderr",
     "output_type": "stream",
     "text": [
      "Using TensorFlow backend.\n"
     ]
    }
   ],
   "source": [
    "from keras.preprocessing.text import Tokenizer\n",
    "from keras.preprocessing.sequence import pad_sequences"
   ]
  },
  {
   "cell_type": "code",
   "execution_count": 58,
   "metadata": {},
   "outputs": [],
   "source": [
    "np.random.seed(1000)\n",
    "num_most_freq_words_to_include = 5000\n",
    "MAX_REVIEW_LENGTH_FOR_KERAS_RNN = 500\n",
    "embedding_vector_length = 32"
   ]
  },
  {
   "cell_type": "code",
   "execution_count": null,
   "metadata": {},
   "outputs": [],
   "source": [
    "train_review_list = x_train.tolist()\n",
    "val_review_list = x_val.tolist()\n",
    "test_review_list = x_test.tolist()\n",
    "all_review_list = x_train.tolist() + x_val.tolist()"
   ]
  }
 ],
 "metadata": {
  "kernelspec": {
   "display_name": "Python 3",
   "language": "python",
   "name": "python3"
  },
  "language_info": {
   "codemirror_mode": {
    "name": "ipython",
    "version": 3
   },
   "file_extension": ".py",
   "mimetype": "text/x-python",
   "name": "python",
   "nbconvert_exporter": "python",
   "pygments_lexer": "ipython3",
   "version": "3.6.6"
  }
 },
 "nbformat": 4,
 "nbformat_minor": 2
}
