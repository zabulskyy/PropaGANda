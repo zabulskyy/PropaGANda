{
 "cells": [
  {
   "cell_type": "code",
   "execution_count": 1,
   "metadata": {},
   "outputs": [],
   "source": [
    "import pandas as pd\n",
    "import os"
   ]
  },
  {
   "cell_type": "code",
   "execution_count": 76,
   "metadata": {},
   "outputs": [],
   "source": [
    "letters = \"абвгґдеєжзиіїйклмнопрстуфхцчшщьюя-\\'\""
   ]
  },
  {
   "cell_type": "code",
   "execution_count": 88,
   "metadata": {},
   "outputs": [],
   "source": [
    "def get_lemma_dict(path=\"data/lemma_dict.txt\")\n",
    "    lemma_dict = dict()\n",
    "    with open(path, 'r') as file:\n",
    "        lines = file.readlines()\n",
    "        for line in lines:\n",
    "            l = line.split()\n",
    "            lemma_dict[l[0]] = l[1]\n",
    "    return lemma_dict\n",
    "\n",
    "lemma_dict = get_lemma_dict()"
   ]
  },
  {
   "cell_type": "code",
   "execution_count": 89,
   "metadata": {},
   "outputs": [],
   "source": [
    "def get_ascii(word, l=letters):\n",
    "    new = \"\"\n",
    "    for w in word:\n",
    "        if w in l:\n",
    "            new += w\n",
    "    return new\n",
    "\n",
    "def get_lemma_word(word, ld=lemma_dict):\n",
    "    new_word = get_ascii(word.lower().strip())\n",
    "    if new_word and new_word in ld:\n",
    "        return ld[new_word]\n",
    "    return \"\"\n",
    "\n",
    "def get_lemma_sent(sent, ld=lemma_dict):\n",
    "    new = []\n",
    "    for word in sent.split():\n",
    "        word = get_lemma_word(word).strip()\n",
    "        if word: \n",
    "            new.append(word)\n",
    "    return new\n",
    "\n",
    "def get_lemma_par(par):\n",
    "    new = []\n",
    "    for sent in par.split('.'):\n",
    "        sent = get_lemma_sent(sent)\n",
    "        if sent: \n",
    "            new.append(sent)\n",
    "    return new"
   ]
  },
  {
   "cell_type": "code",
   "execution_count": 93,
   "metadata": {},
   "outputs": [
    {
     "data": {
      "text/plain": [
       "[['срака', 'ти', 'в', 'рити', 'тупий', 'дебіл'],\n",
       " ['гниль', 'дерево', 'і', 'стілець', 'не', 'вартий'],\n",
       " ['навіть', \"реп'ях\"]]"
      ]
     },
     "execution_count": 93,
     "metadata": {},
     "output_type": "execute_result"
    }
   ],
   "source": [
    "get_lemma_par(\"срака тобі в рило тупий дебіл. гниле дерево і стільця не варте. навіть реп'яхів\")"
   ]
  },
  {
   "cell_type": "code",
   "execution_count": null,
   "metadata": {},
   "outputs": [],
   "source": []
  }
 ],
 "metadata": {
  "kernelspec": {
   "display_name": "Python 3",
   "language": "python",
   "name": "python3"
  },
  "language_info": {
   "codemirror_mode": {
    "name": "ipython",
    "version": 3
   },
   "file_extension": ".py",
   "mimetype": "text/x-python",
   "name": "python",
   "nbconvert_exporter": "python",
   "pygments_lexer": "ipython3",
   "version": "3.6.6"
  }
 },
 "nbformat": 4,
 "nbformat_minor": 2
}
