{
 "cells": [
  {
   "cell_type": "code",
   "execution_count": 1,
   "metadata": {},
   "outputs": [],
   "source": [
    "import gensim+"
   ]
  },
  {
   "cell_type": "code",
   "execution_count": 1,
   "metadata": {},
   "outputs": [
    {
     "ename": "ImportError",
     "evalue": "No module named 'bs4'",
     "output_type": "error",
     "traceback": [
      "\u001b[0;31m---------------------------------------------------------------------------\u001b[0m",
      "\u001b[0;31mImportError\u001b[0m                               Traceback (most recent call last)",
      "\u001b[0;32m<ipython-input-1-c9104532017b>\u001b[0m in \u001b[0;36m<module>\u001b[0;34m()\u001b[0m\n\u001b[1;32m      6\u001b[0m \u001b[0;32mimport\u001b[0m \u001b[0mpandas\u001b[0m \u001b[0;32mas\u001b[0m \u001b[0mpd\u001b[0m\u001b[0;34m\u001b[0m\u001b[0m\n\u001b[1;32m      7\u001b[0m \u001b[0;32mimport\u001b[0m \u001b[0mnumpy\u001b[0m \u001b[0;32mas\u001b[0m \u001b[0mnp\u001b[0m\u001b[0;34m\u001b[0m\u001b[0m\n\u001b[0;32m----> 8\u001b[0;31m \u001b[0;32mfrom\u001b[0m \u001b[0mbs4\u001b[0m \u001b[0;32mimport\u001b[0m \u001b[0mBeautifulSoup\u001b[0m\u001b[0;34m\u001b[0m\u001b[0m\n\u001b[0m\u001b[1;32m      9\u001b[0m \u001b[0;32mfrom\u001b[0m \u001b[0mgensim\u001b[0m\u001b[0;34m.\u001b[0m\u001b[0mmodels\u001b[0m \u001b[0;32mimport\u001b[0m \u001b[0mWord2Vec\u001b[0m\u001b[0;34m\u001b[0m\u001b[0m\n\u001b[1;32m     10\u001b[0m \u001b[0;32mfrom\u001b[0m \u001b[0msklearn\u001b[0m\u001b[0;34m.\u001b[0m\u001b[0mmodel_selection\u001b[0m \u001b[0;32mimport\u001b[0m \u001b[0mtrain_test_split\u001b[0m\u001b[0;34m\u001b[0m\u001b[0m\n",
      "\u001b[0;31mImportError\u001b[0m: No module named 'bs4'"
     ]
    }
   ],
   "source": [
    "import warnings\n",
    "warnings.filterwarnings('ignore')\n",
    "\n",
    "import sys\n",
    "import os\n",
    "import pandas as pd\n",
    "import numpy as np\n",
    "from bs4 import BeautifulSoup\n",
    "from gensim.models import Word2Vec\n",
    "from sklearn.model_selection import train_test_split\n",
    "from sklearn.pipeline import Pipeline\n",
    "from sklearn.linear_model import LogisticRegression\n",
    "data_folder = os.path.join('data', 'news.lowercased.lemmatized.word2vec.300d')\n",
    "import pandas as pd\n",
    "import matplotlib.pyplot as plt\n",
    "import re\n",
    "from bs4 import BeautifulSoup\n",
    "from langdetect import detect\n",
    "import os\n",
    "import re\n",
    "import pandas as pd\n",
    "import matplotlib.pyplot as plt\n",
    "from bs4 import BeautifulSoup\n",
    "from langdetect import detect\n",
    "\n",
    "\n",
    "from sklearn.model_selection import train_test_split\n",
    "from sklearn.pipeline import Pipeline\n",
    "from sklearn.linear_model import LogisticRegression\n",
    "from sklearn.feature_extraction.text import TfidfVectorizer\n",
    "from sklearn.model_selection import train_test_split\n",
    "from sklearn.pipeline import Pipeline\n",
    "from sklearn.linear_model import LogisticRegression\n",
    "from sklearn.feature_extraction.text import TfidfVectorizer\n",
    "# result_folder = data_folder + 'result/'"
   ]
  },
  {
   "cell_type": "code",
   "execution_count": 3,
   "metadata": {},
   "outputs": [
    {
     "name": "stdout",
     "output_type": "stream",
     "text": [
      "CPU times: user 52.7 s, sys: 805 ms, total: 53.5 s\n",
      "Wall time: 54.7 s\n"
     ]
    }
   ],
   "source": [
    "%%time\n",
    "model = gensim.models.KeyedVectors.load_word2vec_format(data_folder, binary=False)\n",
    "model.init_sims(replace=True)"
   ]
  },
  {
   "cell_type": "code",
   "execution_count": 4,
   "metadata": {
    "scrolled": true
   },
   "outputs": [
    {
     "data": {
      "text/html": [
       "<div>\n",
       "<style scoped>\n",
       "    .dataframe tbody tr th:only-of-type {\n",
       "        vertical-align: middle;\n",
       "    }\n",
       "\n",
       "    .dataframe tbody tr th {\n",
       "        vertical-align: top;\n",
       "    }\n",
       "\n",
       "    .dataframe thead th {\n",
       "        text-align: right;\n",
       "    }\n",
       "</style>\n",
       "<table border=\"1\" class=\"dataframe\">\n",
       "  <thead>\n",
       "    <tr style=\"text-align: right;\">\n",
       "      <th></th>\n",
       "      <th>Unnamed: 0</th>\n",
       "      <th>title</th>\n",
       "      <th>text</th>\n",
       "      <th>keyword_tone</th>\n",
       "    </tr>\n",
       "  </thead>\n",
       "  <tbody>\n",
       "    <tr>\n",
       "      <th>0</th>\n",
       "      <td>0</td>\n",
       "      <td>['миронівський', 'хлібопродукт', 'постійно', '...</td>\n",
       "      <td>['миронівський', 'хлібопродукт', 'постійно', '...</td>\n",
       "      <td>neutral</td>\n",
       "    </tr>\n",
       "    <tr>\n",
       "      <th>1</th>\n",
       "      <td>0</td>\n",
       "      <td>['розпочати', 'боротьба', 'з', 'дефіцит', 'віт...</td>\n",
       "      <td>['на', 'початок', 'грудень', 'провести', 'міжн...</td>\n",
       "      <td>neutral</td>\n",
       "    </tr>\n",
       "    <tr>\n",
       "      <th>2</th>\n",
       "      <td>0</td>\n",
       "      <td>['в', 'розпочати', 'боротьба', 'з', 'дефіцит',...</td>\n",
       "      <td>['грудень', 'провести', 'перший', 'міжнародний...</td>\n",
       "      <td>neutral</td>\n",
       "    </tr>\n",
       "    <tr>\n",
       "      <th>3</th>\n",
       "      <td>0</td>\n",
       "      <td>['вітамін', 'у', 'різня', 'період', 'дитинство...</td>\n",
       "      <td>['вітамін', 'у', 'різня', 'період', 'дитинство...</td>\n",
       "      <td>positive</td>\n",
       "    </tr>\n",
       "    <tr>\n",
       "      <th>4</th>\n",
       "      <td>0</td>\n",
       "      <td>['не', 'дужий', 'любити', 'порпатися', 'у', 'с...</td>\n",
       "      <td>['не', 'дужий', 'любити', 'порпатися', 'у', 'с...</td>\n",
       "      <td>negative</td>\n",
       "    </tr>\n",
       "  </tbody>\n",
       "</table>\n",
       "</div>"
      ],
      "text/plain": [
       "   Unnamed: 0                                              title  \\\n",
       "0           0  ['миронівський', 'хлібопродукт', 'постійно', '...   \n",
       "1           0  ['розпочати', 'боротьба', 'з', 'дефіцит', 'віт...   \n",
       "2           0  ['в', 'розпочати', 'боротьба', 'з', 'дефіцит',...   \n",
       "3           0  ['вітамін', 'у', 'різня', 'період', 'дитинство...   \n",
       "4           0  ['не', 'дужий', 'любити', 'порпатися', 'у', 'с...   \n",
       "\n",
       "                                                text keyword_tone  \n",
       "0  ['миронівський', 'хлібопродукт', 'постійно', '...      neutral  \n",
       "1  ['на', 'початок', 'грудень', 'провести', 'міжн...      neutral  \n",
       "2  ['грудень', 'провести', 'перший', 'міжнародний...      neutral  \n",
       "3  ['вітамін', 'у', 'різня', 'період', 'дитинство...     positive  \n",
       "4  ['не', 'дужий', 'любити', 'порпатися', 'у', 'с...     negative  "
      ]
     },
     "execution_count": 4,
     "metadata": {},
     "output_type": "execute_result"
    }
   ],
   "source": [
    "# DATA = \"coded_articles/\"\n",
    "# df = pd.read_csv(\"coded_articles/\"+os.listdir(DATA)[0])\n",
    "df = pd.read_csv(\"result.csv\")\n",
    "# for fl in os.listdir(DATA):\n",
    "#         \n",
    "#     try:\n",
    "#         fl = pd.read_csv(\"coded_articles/\"+fl)\n",
    "#     except:\n",
    "#         print(\"error\")\n",
    "#         continue\n",
    "\n",
    "#     df = pd.concat([df,fl])\n",
    "\n",
    "df.head()"
   ]
  },
  {
   "cell_type": "code",
   "execution_count": 5,
   "metadata": {},
   "outputs": [],
   "source": [
    "mapper = {\"neutral\": 0, \"negative\": -1, \"positive\":1} \n",
    "df[\"keyword_tone\"] = df[\"keyword_tone\"].apply(lambda x: mapper[x])"
   ]
  },
  {
   "cell_type": "code",
   "execution_count": 6,
   "metadata": {},
   "outputs": [
    {
     "data": {
      "text/html": [
       "<div>\n",
       "<style scoped>\n",
       "    .dataframe tbody tr th:only-of-type {\n",
       "        vertical-align: middle;\n",
       "    }\n",
       "\n",
       "    .dataframe tbody tr th {\n",
       "        vertical-align: top;\n",
       "    }\n",
       "\n",
       "    .dataframe thead th {\n",
       "        text-align: right;\n",
       "    }\n",
       "</style>\n",
       "<table border=\"1\" class=\"dataframe\">\n",
       "  <thead>\n",
       "    <tr style=\"text-align: right;\">\n",
       "      <th></th>\n",
       "      <th>Unnamed: 0</th>\n",
       "      <th>title</th>\n",
       "      <th>text</th>\n",
       "      <th>keyword_tone</th>\n",
       "    </tr>\n",
       "  </thead>\n",
       "  <tbody>\n",
       "    <tr>\n",
       "      <th>0</th>\n",
       "      <td>0</td>\n",
       "      <td>['миронівський', 'хлібопродукт', 'постійно', '...</td>\n",
       "      <td>['миронівський', 'хлібопродукт', 'постійно', '...</td>\n",
       "      <td>0</td>\n",
       "    </tr>\n",
       "    <tr>\n",
       "      <th>1</th>\n",
       "      <td>0</td>\n",
       "      <td>['розпочати', 'боротьба', 'з', 'дефіцит', 'віт...</td>\n",
       "      <td>['на', 'початок', 'грудень', 'провести', 'міжн...</td>\n",
       "      <td>0</td>\n",
       "    </tr>\n",
       "    <tr>\n",
       "      <th>2</th>\n",
       "      <td>0</td>\n",
       "      <td>['в', 'розпочати', 'боротьба', 'з', 'дефіцит',...</td>\n",
       "      <td>['грудень', 'провести', 'перший', 'міжнародний...</td>\n",
       "      <td>0</td>\n",
       "    </tr>\n",
       "    <tr>\n",
       "      <th>3</th>\n",
       "      <td>0</td>\n",
       "      <td>['вітамін', 'у', 'різня', 'період', 'дитинство...</td>\n",
       "      <td>['вітамін', 'у', 'різня', 'період', 'дитинство...</td>\n",
       "      <td>1</td>\n",
       "    </tr>\n",
       "    <tr>\n",
       "      <th>4</th>\n",
       "      <td>0</td>\n",
       "      <td>['не', 'дужий', 'любити', 'порпатися', 'у', 'с...</td>\n",
       "      <td>['не', 'дужий', 'любити', 'порпатися', 'у', 'с...</td>\n",
       "      <td>-1</td>\n",
       "    </tr>\n",
       "  </tbody>\n",
       "</table>\n",
       "</div>"
      ],
      "text/plain": [
       "   Unnamed: 0                                              title  \\\n",
       "0           0  ['миронівський', 'хлібопродукт', 'постійно', '...   \n",
       "1           0  ['розпочати', 'боротьба', 'з', 'дефіцит', 'віт...   \n",
       "2           0  ['в', 'розпочати', 'боротьба', 'з', 'дефіцит',...   \n",
       "3           0  ['вітамін', 'у', 'різня', 'період', 'дитинство...   \n",
       "4           0  ['не', 'дужий', 'любити', 'порпатися', 'у', 'с...   \n",
       "\n",
       "                                                text  keyword_tone  \n",
       "0  ['миронівський', 'хлібопродукт', 'постійно', '...             0  \n",
       "1  ['на', 'початок', 'грудень', 'провести', 'міжн...             0  \n",
       "2  ['грудень', 'провести', 'перший', 'міжнародний...             0  \n",
       "3  ['вітамін', 'у', 'різня', 'період', 'дитинство...             1  \n",
       "4  ['не', 'дужий', 'любити', 'порпатися', 'у', 'с...            -1  "
      ]
     },
     "execution_count": 6,
     "metadata": {},
     "output_type": "execute_result"
    }
   ],
   "source": [
    "df.head()"
   ]
  },
  {
   "cell_type": "code",
   "execution_count": 7,
   "metadata": {},
   "outputs": [],
   "source": [
    "def apply_clean(data_to_clean):\n",
    "    #takes data with with bad sumbols and returns cleaned one\n",
    "\n",
    "    no_spaces =data_to_clean.apply(lambda x: BeautifulSoup(str(x), \"lxml\").text.replace(\"\\n\", \" \"))\n",
    "    # take away vk stuff\n",
    "    no_vk  =no_spaces.apply(lambda x: re.sub(r'\\[([^\\|\\]]+\\|)?([^\\]]+)\\]',r'\\2', x))\n",
    "    return no_vk"
   ]
  },
  {
   "cell_type": "code",
   "execution_count": 86,
   "metadata": {},
   "outputs": [],
   "source": [
    "def vect_generator(word):\n",
    "    try:\n",
    "\n",
    "        return model.wv[word]\n",
    "    except KeyError:\n",
    "\n",
    "\n",
    "        return 0"
   ]
  },
  {
   "cell_type": "code",
   "execution_count": 74,
   "metadata": {},
   "outputs": [],
   "source": [
    "def generateVector(data):\n",
    "    result = []\n",
    "    for i in data.split():\n",
    "\n",
    "        res = vect_generator(i)\n",
    "        if type(res) != int:\n",
    "            result.append(res)\n",
    "    return result"
   ]
  },
  {
   "cell_type": "code",
   "execution_count": 82,
   "metadata": {},
   "outputs": [],
   "source": [
    "def X_generator(data):\n",
    "\n",
    "    X_train = []\n",
    "    for element in data:\n",
    "        X_train.append(generateVector(element))\n",
    "    max_len = 10\n",
    "    for i in range(len(X_train)):\n",
    "        to_add = max_len - len(X_train[i])\n",
    "        if to_add >0:\n",
    "            X_train[i] += [[0 for _ in range(300)] for _ in range(to_add)]\n",
    "        else:\n",
    "            X_train[i] = X_train[i][0:max_len]\n",
    "    X_train = np.asarray(X_train)\n",
    "\n",
    "    nsamples, nx, ny = X_train.shape\n",
    "    d2_train_dataset = X_train.reshape((nsamples,nx*ny))\n",
    "    return d2_train_dataset"
   ]
  },
  {
   "cell_type": "code",
   "execution_count": 76,
   "metadata": {},
   "outputs": [],
   "source": [
    "def zeros_putter(X_train):\n",
    "    max_len = 10\n",
    "    for i in range(len(X_train)):\n",
    "        to_add = max_len - len(X_train[i])\n",
    "        if to_add >0:\n",
    "            X_train[i] += [[0 for _ in range(300)] for _ in range(to_add)]\n",
    "        else:\n",
    "            X_train[i] = X_train[i][0:max_len]\n",
    "    X_train = np.asarray(X_train)\n",
    "\n",
    "    nsamples, nx, ny = X_train.shape\n",
    "    d2_train_dataset = X_train.reshape((nsamples,nx*ny))\n",
    "    return d2_train_dataset"
   ]
  },
  {
   "cell_type": "code",
   "execution_count": 77,
   "metadata": {},
   "outputs": [],
   "source": [
    "def sentence_reader(regr,message):\n",
    "\n",
    "    return regr.predict_proba(X_generator(message))\n"
   ]
  },
  {
   "cell_type": "code",
   "execution_count": 84,
   "metadata": {},
   "outputs": [
    {
     "data": {
      "text/plain": [
       "LogisticRegression(C=4, class_weight=None, dual=False, fit_intercept=True,\n",
       "          intercept_scaling=1, max_iter=100, multi_class='ovr', n_jobs=-1,\n",
       "          penalty='l2', random_state=None, solver='liblinear', tol=0.0001,\n",
       "          verbose=0, warm_start=False)"
      ]
     },
     "execution_count": 84,
     "metadata": {},
     "output_type": "execute_result"
    }
   ],
   "source": [
    "data_train, data_test, labels_train, labels_test = train_test_split(df[\"text\"], df[\"keyword_tone\"] ,test_size=0.1, random_state=42, stratify=df[\"keyword_tone\"])\n",
    "regr = LogisticRegression(C=4, n_jobs=-1)\n",
    "regr.fit(X_generator(data_train),labels_train)      \n"
   ]
  },
  {
   "cell_type": "code",
   "execution_count": 85,
   "metadata": {},
   "outputs": [
    {
     "name": "stdout",
     "output_type": "stream",
     "text": [
      "test-data 0.671957671957672\n",
      "trained data 0.919594296633838\n"
     ]
    }
   ],
   "source": [
    "print(\"test-data\",regr.score(X_generator(data_test),labels_test))\n",
    "print(\"trained data\",regr.score(X_generator(data_train),labels_train))"
   ]
  },
  {
   "cell_type": "code",
   "execution_count": 125,
   "metadata": {},
   "outputs": [
    {
     "data": {
      "text/plain": [
       "[('країна-спостерігач', 0.2751046121120453),\n",
       " ('чес', 0.2706616520881653),\n",
       " ('івано–франківський', 0.26607829332351685),\n",
       " ('укомплектувати', 0.26317325234413147),\n",
       " ('господарсько-адміністративний', 0.261201947927475)]"
      ]
     },
     "execution_count": 125,
     "metadata": {},
     "output_type": "execute_result"
    }
   ],
   "source": [
    "sentence_reader(regr,[\"\"])\n",
    "\n",
    "model.most_similar(negative=['зло'], topn=5)"
   ]
  },
  {
   "cell_type": "code",
   "execution_count": 98,
   "metadata": {},
   "outputs": [
    {
     "ename": "TypeError",
     "evalue": "'NoneType' object is not callable",
     "output_type": "error",
     "traceback": [
      "\u001b[0;31m---------------------------------------------------------------------------\u001b[0m",
      "\u001b[0;31mTypeError\u001b[0m                                 Traceback (most recent call last)",
      "\u001b[0;32m<ipython-input-98-4155328ab507>\u001b[0m in \u001b[0;36m<module>\u001b[0;34m()\u001b[0m\n\u001b[0;32m----> 1\u001b[0;31m \u001b[0mprint\u001b[0m\u001b[0;34m(\u001b[0m\u001b[0mregr\u001b[0m\u001b[0;34m.\u001b[0m\u001b[0mclass_weight\u001b[0m\u001b[0;34m(\u001b[0m\u001b[0;34m)\u001b[0m\u001b[0;34m)\u001b[0m\u001b[0;34m\u001b[0m\u001b[0m\n\u001b[0m",
      "\u001b[0;31mTypeError\u001b[0m: 'NoneType' object is not callable"
     ]
    }
   ],
   "source": [
    "print(regr.class_weight)"
   ]
  },
  {
   "cell_type": "code",
   "execution_count": 95,
   "metadata": {},
   "outputs": [
    {
     "name": "stdout",
     "output_type": "stream",
     "text": [
      "2829 1\n",
      "2642 -1\n",
      "2088 0\n"
     ]
    }
   ],
   "source": [
    "one = 0 \n",
    "two = 0\n",
    "neu =0\n",
    "for item in df[\"keyword_tone\"]:\n",
    "\n",
    "    if item == 1:\n",
    "        one+=1\n",
    "    if item == 0:\n",
    "        two+=1\n",
    "    if item == -1:\n",
    "        neu+=1\n",
    "        \n",
    "print(one,\"1\")\n",
    "print(two,\"-1\")\n",
    "print(neu,\"0\")"
   ]
  },
  {
   "cell_type": "code",
   "execution_count": null,
   "metadata": {},
   "outputs": [],
   "source": []
  }
 ],
 "metadata": {
  "kernelspec": {
   "display_name": "Python 3",
   "language": "python",
   "name": "python3"
  },
  "language_info": {
   "codemirror_mode": {
    "name": "ipython",
    "version": 3
   },
   "file_extension": ".py",
   "mimetype": "text/x-python",
   "name": "python",
   "nbconvert_exporter": "python",
   "pygments_lexer": "ipython3",
   "version": "3.5.6"
  }
 },
 "nbformat": 4,
 "nbformat_minor": 2
}
