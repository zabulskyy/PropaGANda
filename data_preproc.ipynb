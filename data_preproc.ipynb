{
 "cells": [
  {
   "cell_type": "code",
   "execution_count": 61,
   "metadata": {},
   "outputs": [],
   "source": [
    "import pandas as pd\n",
    "import os\n",
    "from os import path as osp\n",
    "import numpy as np"
   ]
  },
  {
   "cell_type": "code",
   "execution_count": 161,
   "metadata": {},
   "outputs": [],
   "source": [
    "def get_lemma_dict(path=\"data/lemma_dict.txt\"):\n",
    "    lemma_dict = dict()\n",
    "    with open(path, 'r') as file:\n",
    "        lines = file.readlines()\n",
    "        for line in lines:\n",
    "            l = line.split()\n",
    "            lemma_dict[l[0]] = l[1]\n",
    "    return lemma_dict\n",
    "\n",
    "def get_stop_words(path=\"data/stop_words.txt\"):\n",
    "    stop_words = set()\n",
    "    with open(path, 'r') as file:\n",
    "        lines = file.readlines()\n",
    "        for line in lines:\n",
    "            if line[0] != '*':\n",
    "                stop_words.add(line.strip())\n",
    "    return stop_words"
   ]
  },
  {
   "cell_type": "code",
   "execution_count": 162,
   "metadata": {},
   "outputs": [],
   "source": [
    "lemma_dict = get_lemma_dict()"
   ]
  },
  {
   "cell_type": "code",
   "execution_count": 163,
   "metadata": {},
   "outputs": [],
   "source": [
    "stop_words = get_stop_words()"
   ]
  },
  {
   "cell_type": "code",
   "execution_count": 127,
   "metadata": {},
   "outputs": [],
   "source": [
    "def get_ascii(word):\n",
    "    l = \"абвгґдеєжзиіїйклмнопрстуфхцчшщьюя-\\'\"\n",
    "    s = \"!?.;\\\"'/\\\\,;()\"\n",
    "    new = \"\"\n",
    "    for w in word:\n",
    "        if w in l:\n",
    "            new += w\n",
    "        elif w in s and (new and new[-1] != ' '):\n",
    "            new += \" \"\n",
    "    return new\n",
    "\n",
    "def get_lemma_word(word, ld=lemma_dict, sw=stop_words):\n",
    "    new_word = get_ascii(word.lower().strip())\n",
    "    words = [x.strip() for x in new_word.split()]\n",
    "    if len(words) <= 1:\n",
    "        if new_word and new_word in ld and new_word not in stop_words:\n",
    "            return [ld[new_word]]\n",
    "    else:\n",
    "        res = []\n",
    "        for word in words:\n",
    "            if word and word in ld and word not in stop_words:\n",
    "                res.append(ld[word])\n",
    "        return res\n",
    "    return [\"\"]\n",
    "\n",
    "def get_lemma_sent(sent, ld=lemma_dict):\n",
    "    new = []\n",
    "   \n",
    "    for word in sent.split():\n",
    "        word = get_lemma_word(word)\n",
    "        if word and word != [\"\"]: \n",
    "            for w in word:\n",
    "                new.append(w)\n",
    "    return new\n",
    "\n",
    "def get_lemma_par(par):\n",
    "    new = []\n",
    "    for sent in par.split('.'):\n",
    "        sent = get_lemma_sent(sent)\n",
    "        if sent: \n",
    "            new.append(sent)\n",
    "    return new"
   ]
  },
  {
   "cell_type": "code",
   "execution_count": 171,
   "metadata": {},
   "outputs": [
    {
     "data": {
      "text/plain": [
       "[['дупа', 'сало', 'рити', 'тупити'],\n",
       " ['дебіл'],\n",
       " ['гниль', 'дерево', 'стілець', 'не', 'вартий'],\n",
       " ['навіть', \"реп'ях\"]]"
      ]
     },
     "execution_count": 171,
     "metadata": {},
     "output_type": "execute_result"
    }
   ],
   "source": [
    "get_lemma_par(\"ДУПА СаЛо в й а рило тобі sjlghs jklhgjkls hgkls hdgkl тупи..й дебіл. гниле!!!!дерево і???(стільця) не варте.\\n\\\\\\/n//навіть реп'яхів\")"
   ]
  },
  {
   "cell_type": "code",
   "execution_count": 199,
   "metadata": {},
   "outputs": [],
   "source": [
    "d = {\"neutral\":0, \"negative\":-1, \"positive\":1}\n",
    "data_path = \"/home/zabulskyy/data/coded_articles/ukr_text_Kolya/\""
   ]
  },
  {
   "cell_type": "code",
   "execution_count": 200,
   "metadata": {},
   "outputs": [],
   "source": [
    "composed_data = pd.DataFrame({\"tone\":list(), \"text\":list()})\n",
    "chunks = []\n",
    "for filename in os.listdir(data_path):\n",
    "    datai = pd.read_csv(osp.join(data_path, filename),  encoding = \"utf-8\",  lineterminator='\\n').dropna()\n",
    "    temp = pd.DataFrame({\"tone\":datai[\"keyword_tone\"].apply(lambda x: d[x]), \"text\":datai[\"text\"].apply(get_lemma_sent).apply(lambda x: ' '.join(x))})\n",
    "    chunks.append(temp)\n",
    "composed_data = pd.concat(chunks, ignore_index=1).drop_duplicates()"
   ]
  },
  {
   "cell_type": "code",
   "execution_count": 201,
   "metadata": {},
   "outputs": [
    {
     "data": {
      "text/plain": [
       "46962"
      ]
     },
     "execution_count": 201,
     "metadata": {},
     "output_type": "execute_result"
    }
   ],
   "source": [
    "len(composed_data)"
   ]
  },
  {
   "cell_type": "code",
   "execution_count": 202,
   "metadata": {},
   "outputs": [
    {
     "data": {
      "text/html": [
       "<div>\n",
       "<style scoped>\n",
       "    .dataframe tbody tr th:only-of-type {\n",
       "        vertical-align: middle;\n",
       "    }\n",
       "\n",
       "    .dataframe tbody tr th {\n",
       "        vertical-align: top;\n",
       "    }\n",
       "\n",
       "    .dataframe thead th {\n",
       "        text-align: right;\n",
       "    }\n",
       "</style>\n",
       "<table border=\"1\" class=\"dataframe\">\n",
       "  <thead>\n",
       "    <tr style=\"text-align: right;\">\n",
       "      <th></th>\n",
       "      <th>tone</th>\n",
       "      <th>text</th>\n",
       "    </tr>\n",
       "  </thead>\n",
       "  <tbody>\n",
       "    <tr>\n",
       "      <th>0</th>\n",
       "      <td>0</td>\n",
       "      <td>препарат его первий не не не оно же состав фор...</td>\n",
       "    </tr>\n",
       "    <tr>\n",
       "      <th>1</th>\n",
       "      <td>-1</td>\n",
       "      <td>сайт служба контроль наркотик от заперти ораль...</td>\n",
       "    </tr>\n",
       "    <tr>\n",
       "      <th>3</th>\n",
       "      <td>-1</td>\n",
       "      <td>служба контроль наркотик об том сайт один орал...</td>\n",
       "    </tr>\n",
       "    <tr>\n",
       "      <th>4</th>\n",
       "      <td>-1</td>\n",
       "      <td>сайт служба контроль наркотик от заперти мл ам...</td>\n",
       "    </tr>\n",
       "    <tr>\n",
       "      <th>6</th>\n",
       "      <td>-1</td>\n",
       "      <td>розпорядження надходження інформація правоохор...</td>\n",
       "    </tr>\n",
       "  </tbody>\n",
       "</table>\n",
       "</div>"
      ],
      "text/plain": [
       "  tone                                               text\n",
       "0    0  препарат его первий не не не оно же состав фор...\n",
       "1   -1  сайт служба контроль наркотик от заперти ораль...\n",
       "3   -1  служба контроль наркотик об том сайт один орал...\n",
       "4   -1  сайт служба контроль наркотик от заперти мл ам...\n",
       "6   -1  розпорядження надходження інформація правоохор..."
      ]
     },
     "execution_count": 202,
     "metadata": {},
     "output_type": "execute_result"
    }
   ],
   "source": [
    "composed_data.head()"
   ]
  },
  {
   "cell_type": "code",
   "execution_count": 203,
   "metadata": {},
   "outputs": [],
   "source": [
    "ukr_data = pd.read_csv(\"data/ukrainian_reviews_corpus.csv\", sep=\"|\")"
   ]
  },
  {
   "cell_type": "code",
   "execution_count": 212,
   "metadata": {},
   "outputs": [
    {
     "data": {
      "text/html": [
       "<div>\n",
       "<style scoped>\n",
       "    .dataframe tbody tr th:only-of-type {\n",
       "        vertical-align: middle;\n",
       "    }\n",
       "\n",
       "    .dataframe tbody tr th {\n",
       "        vertical-align: top;\n",
       "    }\n",
       "\n",
       "    .dataframe thead th {\n",
       "        text-align: right;\n",
       "    }\n",
       "</style>\n",
       "<table border=\"1\" class=\"dataframe\">\n",
       "  <thead>\n",
       "    <tr style=\"text-align: right;\">\n",
       "      <th></th>\n",
       "      <th>opinion_rating</th>\n",
       "      <th>opinion_text</th>\n",
       "    </tr>\n",
       "  </thead>\n",
       "  <tbody>\n",
       "    <tr>\n",
       "      <th>0</th>\n",
       "      <td>1</td>\n",
       "      <td>хороший місце провести кальян смачний кожний г...</td>\n",
       "    </tr>\n",
       "    <tr>\n",
       "      <th>1</th>\n",
       "      <td>1</td>\n",
       "      <td>взуття брати не мінус додзвонитися взагалі не</td>\n",
       "    </tr>\n",
       "    <tr>\n",
       "      <th>2</th>\n",
       "      <td>1</td>\n",
       "      <td>відмінний магазин чемний єдиний зауваження отр...</td>\n",
       "    </tr>\n",
       "    <tr>\n",
       "      <th>3</th>\n",
       "      <td>1</td>\n",
       "      <td>замовляти відправити</td>\n",
       "    </tr>\n",
       "    <tr>\n",
       "      <th>4</th>\n",
       "      <td>1</td>\n",
       "      <td>замовляти втретє магазин планувати замовляти п...</td>\n",
       "    </tr>\n",
       "  </tbody>\n",
       "</table>\n",
       "</div>"
      ],
      "text/plain": [
       "   opinion_rating                                       opinion_text\n",
       "0               1  хороший місце провести кальян смачний кожний г...\n",
       "1               1      взуття брати не мінус додзвонитися взагалі не\n",
       "2               1  відмінний магазин чемний єдиний зауваження отр...\n",
       "3               1                               замовляти відправити\n",
       "4               1  замовляти втретє магазин планувати замовляти п..."
      ]
     },
     "execution_count": 212,
     "metadata": {},
     "output_type": "execute_result"
    }
   ],
   "source": [
    "ukr_data.head()"
   ]
  },
  {
   "cell_type": "code",
   "execution_count": 205,
   "metadata": {},
   "outputs": [],
   "source": [
    "ukr_data[\"opinion_rating\"] = ukr_data[\"opinion_rating\"].apply(lambda x: 1 if x == 0 else -1)"
   ]
  },
  {
   "cell_type": "code",
   "execution_count": 206,
   "metadata": {},
   "outputs": [],
   "source": [
    "ukr_data = ukr_data.drop_duplicates()"
   ]
  },
  {
   "cell_type": "code",
   "execution_count": 207,
   "metadata": {},
   "outputs": [],
   "source": [
    "ukr_data[\"opinion_text\"] = ukr_data[\"opinion_text\"].apply(lambda x: str(x))"
   ]
  },
  {
   "cell_type": "code",
   "execution_count": 211,
   "metadata": {},
   "outputs": [],
   "source": [
    "ukr_data[\"opinion_text\"] = ukr_data[\"opinion_text\"].apply(get_lemma_sent).apply(lambda x: ' '.join(x))"
   ]
  },
  {
   "cell_type": "code",
   "execution_count": 213,
   "metadata": {},
   "outputs": [],
   "source": [
    "composed_data = pd.concat([composed_data, pd.DataFrame({\"tone\":ukr_data[\"opinion_rating\"], \"text\":ukr_data[\"opinion_text\"]})], ignore_index=1)"
   ]
  },
  {
   "cell_type": "code",
   "execution_count": 219,
   "metadata": {},
   "outputs": [],
   "source": [
    "composed_data = composed_data.drop_duplicates()"
   ]
  },
  {
   "cell_type": "code",
   "execution_count": 222,
   "metadata": {},
   "outputs": [],
   "source": [
    "composed_data.to_csv(\"data/train.csv\", index=False)"
   ]
  },
  {
   "cell_type": "code",
   "execution_count": 230,
   "metadata": {},
   "outputs": [
    {
     "data": {
      "text/plain": [
       "(22805, 17782, 29396)"
      ]
     },
     "execution_count": 230,
     "metadata": {},
     "output_type": "execute_result"
    }
   ],
   "source": [
    "len(composed_data[composed_data[\"tone\"] == -1]), len(composed_data[composed_data[\"tone\"] == 0]), len(composed_data[composed_data[\"tone\"] == 1])"
   ]
  },
  {
   "cell_type": "code",
   "execution_count": null,
   "metadata": {},
   "outputs": [],
   "source": []
  }
 ],
 "metadata": {
  "kernelspec": {
   "display_name": "Python 3",
   "language": "python",
   "name": "python3"
  },
  "language_info": {
   "codemirror_mode": {
    "name": "ipython",
    "version": 3
   },
   "file_extension": ".py",
   "mimetype": "text/x-python",
   "name": "python",
   "nbconvert_exporter": "python",
   "pygments_lexer": "ipython3",
   "version": "3.6.6"
  }
 },
 "nbformat": 4,
 "nbformat_minor": 2
}
