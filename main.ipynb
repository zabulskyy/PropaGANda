{
 "cells": [
  {
   "cell_type": "code",
   "execution_count": 10,
   "metadata": {},
   "outputs": [],
   "source": [
    "import pandas as pd\n",
    "import os\n",
    "from os import path as osp\n",
    "import numpy as np"
   ]
  },
  {
   "cell_type": "code",
   "execution_count": 34,
   "metadata": {},
   "outputs": [],
   "source": [
    "letters = \"абвгґдеєжзиіїйклмнопрстуфхцчшщьюя-\\'\"\n",
    "symbols = \"!?.;\\\"'/\\\\,;()\""
   ]
  },
  {
   "cell_type": "code",
   "execution_count": 3,
   "metadata": {},
   "outputs": [],
   "source": [
    "def get_lemma_dict(path=\"data/lemma_dict.txt\"):\n",
    "    lemma_dict = dict()\n",
    "    with open(path, 'r') as file:\n",
    "        lines = file.readlines()\n",
    "        for line in lines:\n",
    "            l = line.split()\n",
    "            lemma_dict[l[0]] = l[1]\n",
    "    return lemma_dict\n",
    "\n",
    "lemma_dict = get_lemma_dict()"
   ]
  },
  {
   "cell_type": "code",
   "execution_count": 25,
   "metadata": {},
   "outputs": [],
   "source": [
    "def get_ascii(word, l=letters, s=symbols):\n",
    "    new = \"\"\n",
    "    for w in word:\n",
    "        if w in l:\n",
    "            new += w\n",
    "        elif w in s and new[-1] != ' ':\n",
    "            new += \" \"\n",
    "    return new\n",
    "\n",
    "def get_lemma_word(word, ld=lemma_dict):\n",
    "    new_word = get_ascii(word.lower().strip())\n",
    "    words = [x.strip() for x in new_word.split()]\n",
    "    if len(words) <= 1:\n",
    "        if new_word and new_word in ld:\n",
    "            return [ld[new_word]]\n",
    "    else:\n",
    "        res = []\n",
    "        for word in words:\n",
    "            res.append(ld[word])\n",
    "        return res\n",
    "    return [\"\"]\n",
    "\n",
    "def get_lemma_sent(sent, ld=lemma_dict):\n",
    "    new = []\n",
    "    for word in sent.split():\n",
    "        word = get_lemma_word(word)\n",
    "        if word: \n",
    "            for w in word:\n",
    "                new.append(w)\n",
    "    return new\n",
    "\n",
    "def get_lemma_par(par):\n",
    "    new = []\n",
    "    for sent in par.split('.'):\n",
    "        sent = get_lemma_sent(sent)\n",
    "        if sent: \n",
    "            new.append(sent)\n",
    "    return new\n"
   ]
  },
  {
   "cell_type": "code",
   "execution_count": 28,
   "metadata": {},
   "outputs": [
    {
     "data": {
      "text/plain": [
       "[['срака', 'ти', 'в', 'рити', 'тупий', 'дебіл'],\n",
       " ['гниль', 'дерево', 'і', 'стілець', 'не', 'вартий'],\n",
       " ['навіть', \"реп'ях\"]]"
      ]
     },
     "execution_count": 28,
     "metadata": {},
     "output_type": "execute_result"
    }
   ],
   "source": [
    "get_lemma_par(\"срака тобі в рило тупий дебіл. гниле!!!!дерево і???(стільця) не варте. навіть реп'яхів\")"
   ]
  },
  {
   "cell_type": "code",
   "execution_count": 29,
   "metadata": {},
   "outputs": [],
   "source": [
    "data_path = \"/home/zabulskyy/data/coded_articles/ukr_text_Kolya/\""
   ]
  },
  {
   "cell_type": "code",
   "execution_count": 32,
   "metadata": {},
   "outputs": [
    {
     "name": "stdout",
     "output_type": "stream",
     "text": [
      "69304\n"
     ]
    }
   ],
   "source": [
    "i = 0\n",
    "for filename in os.listdir(data_path):\n",
    "    datai = pd.read_csv(osp.join(data_path, filename),  encoding = \"utf-8\",  lineterminator='\\n')\n",
    "    i += len(datai.values)\n",
    "print(i)"
   ]
  },
  {
   "cell_type": "code",
   "execution_count": 33,
   "metadata": {},
   "outputs": [
    {
     "data": {
      "text/html": [
       "<div>\n",
       "<style scoped>\n",
       "    .dataframe tbody tr th:only-of-type {\n",
       "        vertical-align: middle;\n",
       "    }\n",
       "\n",
       "    .dataframe tbody tr th {\n",
       "        vertical-align: top;\n",
       "    }\n",
       "\n",
       "    .dataframe thead th {\n",
       "        text-align: right;\n",
       "    }\n",
       "</style>\n",
       "<table border=\"1\" class=\"dataframe\">\n",
       "  <thead>\n",
       "    <tr style=\"text-align: right;\">\n",
       "      <th></th>\n",
       "      <th>Unnamed: 0</th>\n",
       "      <th>title</th>\n",
       "      <th>text</th>\n",
       "      <th>keyword_role</th>\n",
       "      <th>keyword_tone</th>\n",
       "      <th>source_type</th>\n",
       "      <th>source_url</th>\n",
       "      <th>language</th>\n",
       "    </tr>\n",
       "  </thead>\n",
       "  <tbody>\n",
       "    <tr>\n",
       "      <th>0</th>\n",
       "      <td>0</td>\n",
       "      <td>Время внедрять IT: как инновационный аграрный ...</td>\n",
       "      <td>Пока промышленность и инфраструктура в Украин...</td>\n",
       "      <td>subject</td>\n",
       "      <td>neutral</td>\n",
       "      <td>internetsource</td>\n",
       "      <td>http://nashemisto.dp.ua/2018/05/07/vremya-vned...</td>\n",
       "      <td>ru</td>\n",
       "    </tr>\n",
       "    <tr>\n",
       "      <th>1</th>\n",
       "      <td>1</td>\n",
       "      <td>Ініціативна група благодійного фонду МХП: «Роз...</td>\n",
       "      <td>Великі компанії можуть і повинні бути каталіз...</td>\n",
       "      <td>secondary</td>\n",
       "      <td>neutral</td>\n",
       "      <td>internetsource</td>\n",
       "      <td>https://www.agroexpert.ua/ru/iniciativna-grupa...</td>\n",
       "      <td>uk</td>\n",
       "    </tr>\n",
       "    <tr>\n",
       "      <th>2</th>\n",
       "      <td>2</td>\n",
       "      <td>МХП: відзнака в конкурсі КСВ-ініціатив</td>\n",
       "      <td>Програма МХП «Село: кроки до розвитку» отримал...</td>\n",
       "      <td>secondary</td>\n",
       "      <td>neutral</td>\n",
       "      <td>internetsource</td>\n",
       "      <td>http://news.kompass.ua/news/mkhp_vidznaka_v_ko...</td>\n",
       "      <td>uk</td>\n",
       "    </tr>\n",
       "    <tr>\n",
       "      <th>3</th>\n",
       "      <td>3</td>\n",
       "      <td>GRAPE оживил рекламу</td>\n",
       "      <td>В современном мире, где теслу запускают в отк...</td>\n",
       "      <td>secondary</td>\n",
       "      <td>neutral</td>\n",
       "      <td>internetsource</td>\n",
       "      <td>http://www.adme.ua/creativity/grape-ozhivil-re...</td>\n",
       "      <td>ru</td>\n",
       "    </tr>\n",
       "    <tr>\n",
       "      <th>4</th>\n",
       "      <td>4</td>\n",
       "      <td>МХП и Grape затеяли мини-революцию в агроиндус...</td>\n",
       "      <td>В современном мире, где теслу запускают в откр...</td>\n",
       "      <td>secondary</td>\n",
       "      <td>neutral</td>\n",
       "      <td>internetsource</td>\n",
       "      <td>http://sostav.ua/publication/mkhp-i-grape-zate...</td>\n",
       "      <td>ru</td>\n",
       "    </tr>\n",
       "  </tbody>\n",
       "</table>\n",
       "</div>"
      ],
      "text/plain": [
       "   Unnamed: 0                                              title  \\\n",
       "0           0  Время внедрять IT: как инновационный аграрный ...   \n",
       "1           1  Ініціативна група благодійного фонду МХП: «Роз...   \n",
       "2           2             МХП: відзнака в конкурсі КСВ-ініціатив   \n",
       "3           3                               GRAPE оживил рекламу   \n",
       "4           4  МХП и Grape затеяли мини-революцию в агроиндус...   \n",
       "\n",
       "                                                text keyword_role  \\\n",
       "0   Пока промышленность и инфраструктура в Украин...      subject   \n",
       "1   Великі компанії можуть і повинні бути каталіз...    secondary   \n",
       "2  Програма МХП «Село: кроки до розвитку» отримал...    secondary   \n",
       "3   В современном мире, где теслу запускают в отк...    secondary   \n",
       "4  В современном мире, где теслу запускают в откр...    secondary   \n",
       "\n",
       "  keyword_tone     source_type  \\\n",
       "0      neutral  internetsource   \n",
       "1      neutral  internetsource   \n",
       "2      neutral  internetsource   \n",
       "3      neutral  internetsource   \n",
       "4      neutral  internetsource   \n",
       "\n",
       "                                          source_url language  \n",
       "0  http://nashemisto.dp.ua/2018/05/07/vremya-vned...       ru  \n",
       "1  https://www.agroexpert.ua/ru/iniciativna-grupa...       uk  \n",
       "2  http://news.kompass.ua/news/mkhp_vidznaka_v_ko...       uk  \n",
       "3  http://www.adme.ua/creativity/grape-ozhivil-re...       ru  \n",
       "4  http://sostav.ua/publication/mkhp-i-grape-zate...       ru  "
      ]
     },
     "execution_count": 33,
     "metadata": {},
     "output_type": "execute_result"
    }
   ],
   "source": [
    "datai.head()"
   ]
  },
  {
   "cell_type": "code",
   "execution_count": null,
   "metadata": {},
   "outputs": [],
   "source": [
    "datai = datai.drop_duplicates()\n",
    "del datai[\"Unnamed: 0\"]\n",
    "del datai[\"\"]"
   ]
  }
 ],
 "metadata": {
  "kernelspec": {
   "display_name": "Python 3",
   "language": "python",
   "name": "python3"
  },
  "language_info": {
   "codemirror_mode": {
    "name": "ipython",
    "version": 3
   },
   "file_extension": ".py",
   "mimetype": "text/x-python",
   "name": "python",
   "nbconvert_exporter": "python",
   "pygments_lexer": "ipython3",
   "version": "3.6.6"
  }
 },
 "nbformat": 4,
 "nbformat_minor": 2
}
