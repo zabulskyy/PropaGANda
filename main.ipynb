{
 "cells": [
  {
   "cell_type": "code",
   "execution_count": 10,
   "metadata": {},
   "outputs": [],
   "source": [
    "import pandas as pd\n",
    "import os\n",
    "from os import path as osp\n",
    "import numpy as np"
   ]
  },
  {
   "cell_type": "code",
   "execution_count": 34,
   "metadata": {},
   "outputs": [],
   "source": []
  },
  {
   "cell_type": "code",
   "execution_count": 3,
   "metadata": {},
   "outputs": [],
   "source": [
    "lemma_dict = get_lemma_dict()"
   ]
  },
  {
   "cell_type": "code",
   "execution_count": 47,
   "metadata": {},
   "outputs": [],
   "source": [
    "def get_lemma_dict(path=\"data/lemma_dict.txt\"):\n",
    "    lemma_dict = dict()\n",
    "    with open(path, 'r') as file:\n",
    "        lines = file.readlines()\n",
    "        for line in lines:\n",
    "            l = line.split()\n",
    "            lemma_dict[l[0]] = l[1]\n",
    "    return lemma_dict\n",
    "\n",
    "\n",
    "def get_ascii(word):\n",
    "    l = \"абвгґдеєжзиіїйклмнопрстуфхцчшщьюя-\\'\"\n",
    "    s = \"!?.;\\\"'/\\\\,;()\"\n",
    "    new = \"\"\n",
    "    for w in word:\n",
    "        if w in l:\n",
    "            new += w\n",
    "        elif w in s and (new and new[-1] != ' '):\n",
    "            new += \" \"\n",
    "    return new\n",
    "\n",
    "def get_lemma_word(word, ld):\n",
    "    new_word = get_ascii(word.lower().strip())\n",
    "    words = [x.strip() for x in new_word.split()]\n",
    "    if len(words) <= 1:\n",
    "        if new_word and new_word in ld:\n",
    "            return [ld[new_word]]\n",
    "    else:\n",
    "        res = []\n",
    "        for word in words:\n",
    "            if word and word in ld:\n",
    "                res.append(ld[word])\n",
    "        return res\n",
    "    return [\"\"]\n",
    "\n",
    "def get_lemma_sent(sent, ld=lemma_dict):\n",
    "    new = []\n",
    "    for word in sent.split():\n",
    "        word = get_lemma_word(word)\n",
    "        if word and word != [\"\"]: \n",
    "            for w in word:\n",
    "                new.append(w)\n",
    "    return new\n",
    "\n",
    "def get_lemma_par(par):\n",
    "    new = []\n",
    "    for sent in par.split('.'):\n",
    "        sent = get_lemma_sent(sent)\n",
    "        if sent: \n",
    "            new.append(sent)\n",
    "    return new\n"
   ]
  },
  {
   "cell_type": "code",
   "execution_count": 48,
   "metadata": {},
   "outputs": [
    {
     "data": {
      "text/plain": [
       "[['срака', 'ти', 'в', 'рити', 'тупий', 'дебіл'],\n",
       " ['гниль', 'дерево', 'і', 'стілець', 'не', 'вартий'],\n",
       " ['навіть', \"реп'ях\"]]"
      ]
     },
     "execution_count": 48,
     "metadata": {},
     "output_type": "execute_result"
    }
   ],
   "source": [
    "get_lemma_par(\"срака тобі в рило sjlghs jklhgjkls hgkls hdgkl тупий дебіл. гниле!!!!дерево і???(стільця) не варте. навіть реп'яхів\")"
   ]
  },
  {
   "cell_type": "code",
   "execution_count": 36,
   "metadata": {},
   "outputs": [],
   "source": [
    "d = {\"neutral\":0, \"negative\":-1, \"positive\":1}\n",
    "data_path = \"/home/zabulskyy/data/coded_articles/ukr_text_Kolya/\""
   ]
  },
  {
   "cell_type": "code",
   "execution_count": 55,
   "metadata": {},
   "outputs": [],
   "source": [
    "composed_data = pd.DataFrame()\n",
    "for filename in os.listdir(data_path):\n",
    "    datai = pd.read_csv(osp.join(data_path, filename),  encoding = \"utf-8\",  lineterminator='\\n')\n",
    "    composed_data.append(datai)\n",
    "    \n",
    "#     datai = datai.drop_duplicates()\n",
    "#     del datai[\"Unnamed: 0\"]\n",
    "#     del datai[\"title\"]\n",
    "#     del datai[\"keyword_role\"]\n",
    "#     datai[\"keyword_tone\"] = datai[\"keyword_tone\"].apply(lambda x: d[x])\n",
    "#     del datai[\"source_type\"]\n",
    "#     del datai[\"source_url\"]\n",
    "#     datai[\"text\"] = datai[\"text\"].apply(get_lemma_sent)\n",
    "    \n",
    "    "
   ]
  },
  {
   "cell_type": "code",
   "execution_count": 60,
   "metadata": {},
   "outputs": [
    {
     "data": {
      "text/plain": [
       "0"
      ]
     },
     "execution_count": 60,
     "metadata": {},
     "output_type": "execute_result"
    }
   ],
   "source": [
    "len(composed_data)"
   ]
  },
  {
   "cell_type": "code",
   "execution_count": 51,
   "metadata": {},
   "outputs": [],
   "source": []
  },
  {
   "cell_type": "code",
   "execution_count": 52,
   "metadata": {},
   "outputs": [
    {
     "data": {
      "text/plain": [
       "0      [в, сектор, агросектор, для, умовити, а, в, то...\n",
       "1      [великий, компанія, могти, і, повинний, бути, ...\n",
       "2      [програма, село, крок, до, розвиток, отримати,...\n",
       "3      [в, тесло, в, космос, на, а, дома, на, агрохол...\n",
       "4      [в, тесло, в, космос, на, а, дома, на, агрохол...\n",
       "5      [програма, село, крок, до, розвиток, отримати,...\n",
       "6      [квітень, рок, в, кий, центр, розвиток, нагоро...\n",
       "7      [програма, село, крок, до, розвиток, отримати,...\n",
       "8      [на, впуск, на, то, в, уже, о, на, поле, читат...\n",
       "9      [програма, село, крок, до, розвиток, отримати,...\n",
       "10     [програма, село, крок, до, розвиток, отримати,...\n",
       "11     [програма, село, крок, до, розвиток, отримати,...\n",
       "12     [програма, село, крок, до, розвиток, отримати,...\n",
       "13     [програма, село, крок, до, розвиток, отримати,...\n",
       "14     [великий, компанія, могти, і, повинний, бути, ...\n",
       "15     [програма, село, крок, до, розвиток, отримати,...\n",
       "16     [село, шаг, в, конкурс, за, вклад, в, в, по, п...\n",
       "17     [село, шаг, в, конкурс, за, вклад, в, в, по, п...\n",
       "18     [найбільший, зарплата, в, аграрний, сектор, ро...\n",
       "19     [в, конкурс, конкурс, по, в, том, реклама, рек...\n",
       "20     [квітень, рок, набути, чинність, основний, час...\n",
       "21     [темп, трудовий, міграція, набувати, загрозлив...\n",
       "22          [директор, по, персонал, об, на, старт, для]\n",
       "23     [березень, агропромисловий, холдинг, звітувати...\n",
       "24     [березень, агропромисловий, холдинг, звітувати...\n",
       "25     [холдинг, о, результат, принцип, перед, для, в...\n",
       "26     [свідомий, прозорість, у, ведення, бізнес, сві...\n",
       "27     [холдинг, о, результат, за, принцип, перед, дл...\n",
       "28     [холдинг, о, результат, за, принцип, перед, дл...\n",
       "29     [холдинг, о, результат, за, принцип, перед, дл...\n",
       "                             ...                        \n",
       "140    [ну, в, я, то, с, журнал, фокус, рейтинг, сфер...\n",
       "141    [а, не, актив, фокус, директор, по, персонал, ...\n",
       "142    [а, не, актив, фокус, директор, по, персонал, ...\n",
       "143    [стереотип, о, на, пришлий, стать, с, член, дв...\n",
       "144    [агрохолдинг, в, рейтинг, в, в, в, журнал, по,...\n",
       "145    [его, в, том, с, акселератор, в, но, для, макс...\n",
       "146    [то, для, недавно, на, то, а, не, актив, фокус...\n",
       "147    [о, проблема, в, правильний, его, миронівський...\n",
       "148    [проблема, в, правильний, его, миронівський, к...\n",
       "149    [в, миронівський, хлібопродукт, директор, по, ...\n",
       "150    [директор, по, с, персонал, фото, об, том, дир...\n",
       "151    [в, миронівський, хлібопродукт, директор, по, ...\n",
       "152    [в, миронівський, хлібопродукт, директор, по, ...\n",
       "153    [тон, манера, ректи, в, миронівський, хлібопро...\n",
       "154    [готовий, інвестувати, у, проактивний, директо...\n",
       "155    [прямувати, от, глава, директор, по, персонал,...\n",
       "156    [прямувати, от, глава, директор, по, персонал,...\n",
       "157    [прямувати, от, глава, директор, по, персонал,...\n",
       "158    [розпочатися, прес-конференція, щодо, програма...\n",
       "159    [можливість, для, стартап, відкривати, від, ми...\n",
       "160    [в, фокус, гостя, культура, на, вечеря, партне...\n",
       "161    [агрохолдинг, в, топ, на, в, в, в, журнал, по,...\n",
       "162    [запустити, проект, на, в, заявка, уже, на, са...\n",
       "163    [агрохолдинг, в, топ, на, в, в, в, журнал, по,...\n",
       "164    [у, бізнес, стать, не, маяти, значення, вартув...\n",
       "165    [почати, кар'єра, з, у, бізнес, стать, не, мая...\n",
       "166    [великий, компанія, могти, і, повинний, бути, ...\n",
       "167    [агрохолдинг, миронівський, хлібопродукт, прий...\n",
       "168    [стартапер, с, не, у, то, реклама, реклама, ре...\n",
       "169    [директор, по, персонал, для, фото, по, раз, о...\n",
       "Name: text, Length: 170, dtype: object"
      ]
     },
     "execution_count": 52,
     "metadata": {},
     "output_type": "execute_result"
    }
   ],
   "source": [
    "datai[\"text\"]"
   ]
  },
  {
   "cell_type": "code",
   "execution_count": null,
   "metadata": {},
   "outputs": [],
   "source": []
  }
 ],
 "metadata": {
  "kernelspec": {
   "display_name": "Python 3",
   "language": "python",
   "name": "python3"
  },
  "language_info": {
   "codemirror_mode": {
    "name": "ipython",
    "version": 3
   },
   "file_extension": ".py",
   "mimetype": "text/x-python",
   "name": "python",
   "nbconvert_exporter": "python",
   "pygments_lexer": "ipython3",
   "version": "3.6.6"
  }
 },
 "nbformat": 4,
 "nbformat_minor": 2
}
